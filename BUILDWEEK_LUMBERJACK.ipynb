{
 "cells": [
  {
   "cell_type": "code",
   "execution_count": 24,
   "id": "4b2f1494-dc6c-4971-b2b1-dae076615b2c",
   "metadata": {},
   "outputs": [],
   "source": [
    "import requests\n",
    "from bs4 import BeautifulSoup"
   ]
  },
  {
   "cell_type": "markdown",
   "id": "99155c28-6392-4dd8-af89-2b8f63804e02",
   "metadata": {},
   "source": [
    "* https://www.lumberjack.com/it/sport_shoes?gender=woman\n",
    "* https://www.lumberjack.com/it/sandals?gender=woman\n",
    "* https://www.lumberjack.com/it/boat-shoes?gender=woman\n",
    "* https://www.lumberjack.com/it/ankle-boots?gender=woman\n",
    "* https://www.lumberjack.com/it/beatles?gender=woman\n",
    "* https://www.lumberjack.com/it/outdoor?gender=woman"
   ]
  },
  {
   "cell_type": "code",
   "execution_count": 25,
   "id": "dad2ee11-101b-4366-b495-2749979d3c52",
   "metadata": {},
   "outputs": [],
   "source": [
    "nomi=[]\n",
    "prezzi=[]\n",
    "modello=[]\n",
    "marca=[]\n",
    "\n",
    "#modello=['Sneakers','Sandali','Stivali e stivaletti','Scarpe basse']\n",
    "#pagine=[\"https://www.lumberjack.com/it/sport_shoes?gender=woman\"]#,\n",
    "       # \"https://www.lumberjack.com/it/sandals?gender=woman\",\n",
    "        #\"https://www.lumberjack.com/it/ankle-boots?gender=woman\",\n",
    "        #\"https://www.lumberjack.com/it/outdoor?gender=woman\"]"
   ]
  },
  {
   "cell_type": "code",
   "execution_count": 26,
   "id": "25f8d262-e71f-46fa-a725-944d49d2d22c",
   "metadata": {},
   "outputs": [],
   "source": [
    "# Sneakers\n",
    "urlpagine=\"https://www.lumberjack.com/it/sport_shoes?gender=woman\"\n",
    "page_numbers='&page='\n",
    "req=requests.get(urlpagine)\n",
    "soup=BeautifulSoup(req.text)\n",
    "pagine_totali_presenti=int(soup.find_all(\"a\",class_=\"page-link\")[-2].text)\n",
    "i=1 \n",
    "while i<=pagine_totali_presenti:\n",
    "    req=requests.get(urlpagine+page_numbers+str(i))\n",
    "    soup= BeautifulSoup(req.text)\n",
    "    nomi_scarpe=soup.find_all(\"div\", class_=\"product__name\")\n",
    "    for nome in nomi_scarpe:\n",
    "        nomi.append(nome.text.strip())\n",
    "        prezzi_soup=soup.find_all (\"span\", class_=\"product__prices-sale\")\n",
    "    for p in prezzi_soup:\n",
    "        p=p.text.strip()\n",
    "        p=p.replace(\"\\xa0EUR\", \"\")\n",
    "        p=p.replace(\",\",\".\")\n",
    "        p=float(p)\n",
    "        prezzi.append(p)\n",
    "        marca.append(\"Lumberjack\")\n",
    "        modello.append(\"Sneakers\")               \n",
    "    i+=1     "
   ]
  },
  {
   "cell_type": "code",
   "execution_count": 27,
   "id": "951cf972-4ee4-4c81-85db-57dc84fde738",
   "metadata": {},
   "outputs": [],
   "source": [
    "# Sandali\n",
    "urlpagine=\"https://www.lumberjack.com/it/sandals?gender=woman\"\n",
    "page_numbers='&page='\n",
    "req=requests.get(urlpagine)\n",
    "soup=BeautifulSoup(req.text)\n",
    "pagine_totali_presenti=int(soup.find_all(\"a\",class_=\"page-link\")[-2].text)\n",
    "i=1 \n",
    "while i<=pagine_totali_presenti:\n",
    "    req=requests.get(urlpagine+page_numbers+str(i))\n",
    "    soup= BeautifulSoup(req.text)\n",
    "    nomi_scarpe=soup.find_all(\"div\", class_=\"product__name\")\n",
    "    for nome in nomi_scarpe:\n",
    "        nomi.append(nome.text.strip())\n",
    "        prezzi_soup=soup.find_all (\"span\", class_=\"product__prices-sale\")\n",
    "    for p in prezzi_soup:\n",
    "        p=p.text.strip()\n",
    "        p=p.replace(\"\\xa0EUR\", \"\")\n",
    "        p=p.replace(\",\",\".\")\n",
    "        p=float(p)\n",
    "        prezzi.append(p)\n",
    "        marca.append(\"Lumberjack\")\n",
    "        modello.append(\"Sandali\")               \n",
    "    i+=1    "
   ]
  },
  {
   "cell_type": "code",
   "execution_count": 28,
   "id": "69dfb8bb-fc45-496a-bc5c-94b7d91e6755",
   "metadata": {},
   "outputs": [],
   "source": [
    "# Scarpe basse\n",
    "urlpagine=\"https://www.lumberjack.com/it/ankle-boots?gender=woman\"\n",
    "page_numbers='&page='\n",
    "req=requests.get(urlpagine)\n",
    "soup=BeautifulSoup(req.text)\n",
    "pagine_totali_presenti=int(soup.find_all(\"a\",class_=\"page-link\")[-2].text)\n",
    "i=1 \n",
    "while i<=pagine_totali_presenti:\n",
    "    req=requests.get(urlpagine+page_numbers+str(i))\n",
    "    soup= BeautifulSoup(req.text)\n",
    "    nomi_scarpe=soup.find_all(\"div\", class_=\"product__name\")\n",
    "    for nome in nomi_scarpe:\n",
    "        nomi.append(nome.text.strip())\n",
    "        prezzi_soup=soup.find_all (\"span\", class_=\"product__prices-sale\")\n",
    "    for p in prezzi_soup:\n",
    "        p=p.text.strip()\n",
    "        p=p.replace(\"\\xa0EUR\", \"\")\n",
    "        p=p.replace(\",\",\".\")\n",
    "        p=float(p)\n",
    "        prezzi.append(p)\n",
    "        marca.append(\"Lumberjack\")\n",
    "        modello.append(\"Scarpe basse\")               \n",
    "    i+=1   "
   ]
  },
  {
   "cell_type": "code",
   "execution_count": 29,
   "id": "fb65279e-aa3c-4ab1-8b0a-ef85d4465f52",
   "metadata": {},
   "outputs": [],
   "source": [
    "# Stivali e stivaletti\n",
    "urlpagine=\"https://www.lumberjack.com/it/outdoor?gender=woman\"\n",
    "req=requests.get(urlpagine)\n",
    "soup=BeautifulSoup(req.text)\n",
    "nomi_scarpe=soup.find_all(\"div\", class_=\"product__name\")\n",
    "for nome in nomi_scarpe:\n",
    "    nomi.append(nome.text.strip())\n",
    "    prezzi_soup=soup.find_all (\"span\", class_=\"product__prices-sale\")\n",
    "for p in prezzi_soup:\n",
    "    p=p.text.strip()\n",
    "    p=p.replace(\"\\xa0EUR\", \"\")\n",
    "    p=p.replace(\",\",\".\")\n",
    "    p=float(p)\n",
    "    prezzi.append(p)\n",
    "    marca.append(\"Lumberjack\")              \n",
    "    modello.append(\"Stivali e stivaletti\")       "
   ]
  },
  {
   "cell_type": "code",
   "execution_count": 30,
   "id": "f21e6fae-5a72-442d-ba3e-09898db5cc60",
   "metadata": {},
   "outputs": [
    {
     "data": {
      "text/plain": [
       "228"
      ]
     },
     "execution_count": 30,
     "metadata": {},
     "output_type": "execute_result"
    }
   ],
   "source": [
    "len(nomi)"
   ]
  },
  {
   "cell_type": "code",
   "execution_count": 31,
   "id": "a6ebe47a-f01a-4950-b7b9-1ec3bc36b111",
   "metadata": {},
   "outputs": [
    {
     "data": {
      "text/plain": [
       "228"
      ]
     },
     "execution_count": 31,
     "metadata": {},
     "output_type": "execute_result"
    }
   ],
   "source": [
    "len(prezzi)"
   ]
  },
  {
   "cell_type": "code",
   "execution_count": 32,
   "id": "8eabcdea-f406-481d-ace1-9a95d6438d8e",
   "metadata": {},
   "outputs": [
    {
     "data": {
      "text/plain": [
       "228"
      ]
     },
     "execution_count": 32,
     "metadata": {},
     "output_type": "execute_result"
    }
   ],
   "source": [
    "len(marca)"
   ]
  },
  {
   "cell_type": "code",
   "execution_count": 33,
   "id": "985091cb-e1df-4ba7-a736-f359e02b281d",
   "metadata": {},
   "outputs": [
    {
     "data": {
      "text/plain": [
       "228"
      ]
     },
     "execution_count": 33,
     "metadata": {},
     "output_type": "execute_result"
    }
   ],
   "source": [
    "len(modello)"
   ]
  },
  {
   "cell_type": "code",
   "execution_count": 34,
   "id": "591781e0-0acd-42be-8500-a60f23aa5b3b",
   "metadata": {},
   "outputs": [
    {
     "data": {
      "text/html": [
       "<div>\n",
       "<style scoped>\n",
       "    .dataframe tbody tr th:only-of-type {\n",
       "        vertical-align: middle;\n",
       "    }\n",
       "\n",
       "    .dataframe tbody tr th {\n",
       "        vertical-align: top;\n",
       "    }\n",
       "\n",
       "    .dataframe thead th {\n",
       "        text-align: right;\n",
       "    }\n",
       "</style>\n",
       "<table border=\"1\" class=\"dataframe\">\n",
       "  <thead>\n",
       "    <tr style=\"text-align: right;\">\n",
       "      <th></th>\n",
       "      <th>marca</th>\n",
       "      <th>modello</th>\n",
       "      <th>name</th>\n",
       "      <th>prezzi</th>\n",
       "    </tr>\n",
       "  </thead>\n",
       "  <tbody>\n",
       "    <tr>\n",
       "      <th>0</th>\n",
       "      <td>Lumberjack</td>\n",
       "      <td>Sneakers</td>\n",
       "      <td>FREYA SNEAKERS DONNA</td>\n",
       "      <td>49.99</td>\n",
       "    </tr>\n",
       "    <tr>\n",
       "      <th>1</th>\n",
       "      <td>Lumberjack</td>\n",
       "      <td>Sneakers</td>\n",
       "      <td>FREYA SNEAKERS DONNA</td>\n",
       "      <td>49.99</td>\n",
       "    </tr>\n",
       "    <tr>\n",
       "      <th>2</th>\n",
       "      <td>Lumberjack</td>\n",
       "      <td>Sneakers</td>\n",
       "      <td>CECILIA SNEAKERS DONNA</td>\n",
       "      <td>69.99</td>\n",
       "    </tr>\n",
       "    <tr>\n",
       "      <th>3</th>\n",
       "      <td>Lumberjack</td>\n",
       "      <td>Sneakers</td>\n",
       "      <td>DORIS SNEAKER DONNA</td>\n",
       "      <td>59.99</td>\n",
       "    </tr>\n",
       "    <tr>\n",
       "      <th>4</th>\n",
       "      <td>Lumberjack</td>\n",
       "      <td>Sneakers</td>\n",
       "      <td>HILDA SNEAKER DONNA</td>\n",
       "      <td>89.99</td>\n",
       "    </tr>\n",
       "    <tr>\n",
       "      <th>...</th>\n",
       "      <td>...</td>\n",
       "      <td>...</td>\n",
       "      <td>...</td>\n",
       "      <td>...</td>\n",
       "    </tr>\n",
       "    <tr>\n",
       "      <th>223</th>\n",
       "      <td>Lumberjack</td>\n",
       "      <td>Stivali e stivaletti</td>\n",
       "      <td>ELECTRIC SCARPE OUTDOOR DONNA</td>\n",
       "      <td>34.99</td>\n",
       "    </tr>\n",
       "    <tr>\n",
       "      <th>224</th>\n",
       "      <td>Lumberjack</td>\n",
       "      <td>Stivali e stivaletti</td>\n",
       "      <td>VABORY OUTDOOR DONNA</td>\n",
       "      <td>59.99</td>\n",
       "    </tr>\n",
       "    <tr>\n",
       "      <th>225</th>\n",
       "      <td>Lumberjack</td>\n",
       "      <td>Stivali e stivaletti</td>\n",
       "      <td>STOWE Scarponcino outdoor Donna</td>\n",
       "      <td>34.99</td>\n",
       "    </tr>\n",
       "    <tr>\n",
       "      <th>226</th>\n",
       "      <td>Lumberjack</td>\n",
       "      <td>Stivali e stivaletti</td>\n",
       "      <td>MODESTA OUTDOOR DONNA</td>\n",
       "      <td>39.99</td>\n",
       "    </tr>\n",
       "    <tr>\n",
       "      <th>227</th>\n",
       "      <td>Lumberjack</td>\n",
       "      <td>Stivali e stivaletti</td>\n",
       "      <td>ELECTRIC SCARPE OUTDOOR DONNA</td>\n",
       "      <td>39.99</td>\n",
       "    </tr>\n",
       "  </tbody>\n",
       "</table>\n",
       "<p>228 rows × 4 columns</p>\n",
       "</div>"
      ],
      "text/plain": [
       "          marca               modello                             name  prezzi\n",
       "0    Lumberjack              Sneakers             FREYA SNEAKERS DONNA   49.99\n",
       "1    Lumberjack              Sneakers             FREYA SNEAKERS DONNA   49.99\n",
       "2    Lumberjack              Sneakers           CECILIA SNEAKERS DONNA   69.99\n",
       "3    Lumberjack              Sneakers              DORIS SNEAKER DONNA   59.99\n",
       "4    Lumberjack              Sneakers              HILDA SNEAKER DONNA   89.99\n",
       "..          ...                   ...                              ...     ...\n",
       "223  Lumberjack  Stivali e stivaletti    ELECTRIC SCARPE OUTDOOR DONNA   34.99\n",
       "224  Lumberjack  Stivali e stivaletti             VABORY OUTDOOR DONNA   59.99\n",
       "225  Lumberjack  Stivali e stivaletti  STOWE Scarponcino outdoor Donna   34.99\n",
       "226  Lumberjack  Stivali e stivaletti            MODESTA OUTDOOR DONNA   39.99\n",
       "227  Lumberjack  Stivali e stivaletti    ELECTRIC SCARPE OUTDOOR DONNA   39.99\n",
       "\n",
       "[228 rows x 4 columns]"
      ]
     },
     "execution_count": 34,
     "metadata": {},
     "output_type": "execute_result"
    }
   ],
   "source": [
    "import pandas as pd\n",
    "Lumberjack={\n",
    "    \"marca\":marca,\n",
    "    \"modello\":modello,\n",
    "    \"name\":nomi,\n",
    "    \"prezzi\":prezzi,\n",
    "}\n",
    "dfl=pd.DataFrame(Lumberjack)\n",
    "dfl # è IL DATABASE DEFINITITO DI LUMBERJACK"
   ]
  },
  {
   "cell_type": "code",
   "execution_count": 36,
   "id": "9507bd32-1c8d-442b-8fb5-c530f43cd186",
   "metadata": {},
   "outputs": [],
   "source": [
    "dflg=dfl.groupby(\"modello\")"
   ]
  },
  {
   "cell_type": "code",
   "execution_count": 37,
   "id": "ff4a8d31-a0d2-42b1-9a1f-3955527e55df",
   "metadata": {},
   "outputs": [
    {
     "data": {
      "text/plain": [
       "modello\n",
       "Sandali                  59\n",
       "Scarpe basse             34\n",
       "Sneakers                123\n",
       "Stivali e stivaletti     12\n",
       "Name: modello, dtype: int64"
      ]
     },
     "execution_count": 37,
     "metadata": {},
     "output_type": "execute_result"
    }
   ],
   "source": [
    "dflg.modello.count()"
   ]
  },
  {
   "cell_type": "markdown",
   "id": "7691f58b-c41a-4ad3-bd99-6d6318a93969",
   "metadata": {},
   "source": [
    "* i modelli offerti dal competitor Kammi sono 16 per tipologia, però sono in maggior numero.\n",
    "* \n",
    "**Si potrebbe pensare di sviluppare altre line di prodotto non gestite tipo:Scarpe con tacco e Zeppe**"
   ]
  },
  {
   "cell_type": "code",
   "execution_count": 79,
   "id": "1ea87dd8-1bb7-418d-84f5-3c6186f7969b",
   "metadata": {},
   "outputs": [],
   "source": [
    "dflg_prezzi = dflg.prezzi.describe()\n",
    "dflg_prezzi_mean = dflg_prezzi.loc[:,\"mean\"]"
   ]
  },
  {
   "cell_type": "markdown",
   "id": "b7fe4803-1abb-41eb-8774-0bd80f90ceb7",
   "metadata": {},
   "source": [
    "* i prezzi in media sono più bassi per ogni tipologia di prodotto"
   ]
  },
  {
   "cell_type": "code",
   "execution_count": 49,
   "id": "04bf1228-3c32-466d-a1b6-5334f0d9561c",
   "metadata": {},
   "outputs": [],
   "source": [
    "import matplotlib.pyplot as plt\n",
    "import seaborn as sns"
   ]
  },
  {
   "cell_type": "code",
   "execution_count": 89,
   "id": "f1700a94-98d3-4520-90fc-1989975a0ecb",
   "metadata": {},
   "outputs": [
    {
     "data": {
      "text/plain": [
       "<Axes: xlabel='count', ylabel='modello'>"
      ]
     },
     "execution_count": 89,
     "metadata": {},
     "output_type": "execute_result"
    },
    {
     "data": {
      "image/png": "[encoded data removed]",
      "text/plain": [
       "<Figure size 640x480 with 1 Axes>"
      ]
     },
     "metadata": {},
     "output_type": "display_data"
    }
   ],
   "source": [
    "sns.countplot(data=dfl, y=\"modello\") #vedo le quantità per ogni tipo di modello di scarpe"
   ]
  },
  {
   "cell_type": "markdown",
   "id": "0d4a5f25-158a-4e06-a154-cd4d942b4128",
   "metadata": {},
   "source": [
    "Si denota una maggiore produzione di sneaker, a confronto con il competitor che invece ha una produzione equa dei diversi modelli di scarpa"
   ]
  },
  {
   "cell_type": "code",
   "execution_count": 85,
   "id": "3fa20f1f-eafc-431b-8e4f-5fc5f31c1a00",
   "metadata": {},
   "outputs": [
    {
     "data": {
      "text/plain": [
       "<Axes: ylabel='modello'>"
      ]
     },
     "execution_count": 85,
     "metadata": {},
     "output_type": "execute_result"
    },
    {
     "data": {
      "image/png": "[encoded data removed]",
      "text/plain": [
       "<Figure size 640x480 with 1 Axes>"
      ]
     },
     "metadata": {},
     "output_type": "display_data"
    }
   ],
   "source": [
    "dflg_prezzi_mean.plot(kind=\"barh\", x=\"mean\")"
   ]
  },
  {
   "cell_type": "code",
   "execution_count": 94,
   "id": "a17bd0f7-7227-4852-9aea-f8a82685c321",
   "metadata": {},
   "outputs": [
    {
     "data": {
      "text/plain": [
       "<Axes: xlabel='modello', ylabel='mean'>"
      ]
     },
     "execution_count": 94,
     "metadata": {},
     "output_type": "execute_result"
    },
    {
     "data": {
      "image/png": "[encoded data removed]",
      "text/plain": [
       "<Figure size 640x480 with 1 Axes>"
      ]
     },
     "metadata": {},
     "output_type": "display_data"
    }
   ],
   "source": [
    "sns.barplot(x=dflg_prezzi_mean.index, y=dflg_prezzi_mean)"
   ]
  },
  {
   "cell_type": "code",
   "execution_count": 91,
   "id": "81627e41-2b95-47f7-87e7-c9ffea298d40",
   "metadata": {},
   "outputs": [
    {
     "data": {
      "text/plain": [
       "modello\n",
       "Sandali                 58.566271\n",
       "Scarpe basse            57.637059\n",
       "Sneakers                48.030650\n",
       "Stivali e stivaletti    45.406667\n",
       "Name: mean, dtype: float64"
      ]
     },
     "execution_count": 91,
     "metadata": {},
     "output_type": "execute_result"
    }
   ],
   "source": [
    "dflg_prezzi_mean"
   ]
  }
 ],
 "metadata": {
  "kernelspec": {
   "display_name": "Python 3 (ipykernel)",
   "language": "python",
   "name": "python3"
  },
  "language_info": {
   "codemirror_mode": {
    "name": "ipython",
    "version": 3
   },
   "file_extension": ".py",
   "mimetype": "text/x-python",
   "name": "python",
   "nbconvert_exporter": "python",
   "pygments_lexer": "ipython3",
   "version": "3.11.7"
  }
 },
 "nbformat": 4,
 "nbformat_minor": 5
}
